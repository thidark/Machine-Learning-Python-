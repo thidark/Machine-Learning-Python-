{
  "nbformat": 4,
  "nbformat_minor": 0,
  "metadata": {
    "colab": {
      "name": "2_Logistic Regression.ipynb",
      "provenance": [],
      "authorship_tag": "ABX9TyMDhlibZw/0sYv2xcnkxgA1",
      "include_colab_link": true
    },
    "kernelspec": {
      "name": "python3",
      "display_name": "Python 3"
    },
    "language_info": {
      "name": "python"
    }
  },
  "cells": [
    {
      "cell_type": "markdown",
      "metadata": {
        "id": "view-in-github",
        "colab_type": "text"
      },
      "source": [
        "<a href=\"https://colab.research.google.com/github/thidark/Machine-Learning-Python-/blob/main/2_Logistic_Regression.ipynb\" target=\"_parent\"><img src=\"https://colab.research.google.com/assets/colab-badge.svg\" alt=\"Open In Colab\"/></a>"
      ]
    },
    {
      "cell_type": "code",
      "execution_count": 1,
      "metadata": {
        "colab": {
          "resources": {
            "http://localhost:8080/nbextensions/google.colab/files.js": {
              "data": "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",
              "ok": true,
              "headers": [
                [
                  "content-type",
                  "application/javascript"
                ]
              ],
              "status": 200,
              "status_text": ""
            }
          },
          "base_uri": "https://localhost:8080/",
          "height": 109
        },
        "id": "w3tiav1YqaHd",
        "outputId": "45cd76a5-550f-4561-feb9-71097b0713e6"
      },
      "outputs": [
        {
          "output_type": "display_data",
          "data": {
            "text/plain": [
              "<IPython.core.display.HTML object>"
            ],
            "text/html": [
              "\n",
              "     <input type=\"file\" id=\"files-1c91624b-4c9c-45a2-bd82-9c8afaae6f9d\" name=\"files[]\" multiple disabled\n",
              "        style=\"border:none\" />\n",
              "     <output id=\"result-1c91624b-4c9c-45a2-bd82-9c8afaae6f9d\">\n",
              "      Upload widget is only available when the cell has been executed in the\n",
              "      current browser session. Please rerun this cell to enable.\n",
              "      </output>\n",
              "      <script src=\"/nbextensions/google.colab/files.js\"></script> "
            ]
          },
          "metadata": {}
        },
        {
          "output_type": "stream",
          "name": "stdout",
          "text": [
            "Saving ex2data1.txt to ex2data1.txt\n",
            "Saving ex2data2.txt to ex2data2.txt\n"
          ]
        }
      ],
      "source": [
        "from google.colab import files\n",
        "uploaded=files.upload()"
      ]
    },
    {
      "cell_type": "code",
      "source": [
        "import numpy as np\n",
        "import pandas as pd\n",
        "import matplotlib.pyplot as plt\n"
      ],
      "metadata": {
        "id": "kSx22eJsr1D3"
      },
      "execution_count": 3,
      "outputs": []
    },
    {
      "cell_type": "code",
      "source": [
        "df=pd.read_csv('/content/ex2data1.txt',header=None)"
      ],
      "metadata": {
        "id": "x7-TUyzSsEJN"
      },
      "execution_count": 6,
      "outputs": []
    },
    {
      "cell_type": "code",
      "source": [
        "df"
      ],
      "metadata": {
        "colab": {
          "base_uri": "https://localhost:8080/",
          "height": 423
        },
        "id": "yjtsw7AksWVT",
        "outputId": "59c4cccf-05dc-4f85-ff83-d5541cdec0e8"
      },
      "execution_count": 7,
      "outputs": [
        {
          "output_type": "execute_result",
          "data": {
            "text/plain": [
              "            0          1  2\n",
              "0   34.623660  78.024693  0\n",
              "1   30.286711  43.894998  0\n",
              "2   35.847409  72.902198  0\n",
              "3   60.182599  86.308552  1\n",
              "4   79.032736  75.344376  1\n",
              "..        ...        ... ..\n",
              "95  83.489163  48.380286  1\n",
              "96  42.261701  87.103851  1\n",
              "97  99.315009  68.775409  1\n",
              "98  55.340018  64.931938  1\n",
              "99  74.775893  89.529813  1\n",
              "\n",
              "[100 rows x 3 columns]"
            ],
            "text/html": [
              "\n",
              "  <div id=\"df-e79052ec-aca0-48f4-8a21-a3234416c03b\">\n",
              "    <div class=\"colab-df-container\">\n",
              "      <div>\n",
              "<style scoped>\n",
              "    .dataframe tbody tr th:only-of-type {\n",
              "        vertical-align: middle;\n",
              "    }\n",
              "\n",
              "    .dataframe tbody tr th {\n",
              "        vertical-align: top;\n",
              "    }\n",
              "\n",
              "    .dataframe thead th {\n",
              "        text-align: right;\n",
              "    }\n",
              "</style>\n",
              "<table border=\"1\" class=\"dataframe\">\n",
              "  <thead>\n",
              "    <tr style=\"text-align: right;\">\n",
              "      <th></th>\n",
              "      <th>0</th>\n",
              "      <th>1</th>\n",
              "      <th>2</th>\n",
              "    </tr>\n",
              "  </thead>\n",
              "  <tbody>\n",
              "    <tr>\n",
              "      <th>0</th>\n",
              "      <td>34.623660</td>\n",
              "      <td>78.024693</td>\n",
              "      <td>0</td>\n",
              "    </tr>\n",
              "    <tr>\n",
              "      <th>1</th>\n",
              "      <td>30.286711</td>\n",
              "      <td>43.894998</td>\n",
              "      <td>0</td>\n",
              "    </tr>\n",
              "    <tr>\n",
              "      <th>2</th>\n",
              "      <td>35.847409</td>\n",
              "      <td>72.902198</td>\n",
              "      <td>0</td>\n",
              "    </tr>\n",
              "    <tr>\n",
              "      <th>3</th>\n",
              "      <td>60.182599</td>\n",
              "      <td>86.308552</td>\n",
              "      <td>1</td>\n",
              "    </tr>\n",
              "    <tr>\n",
              "      <th>4</th>\n",
              "      <td>79.032736</td>\n",
              "      <td>75.344376</td>\n",
              "      <td>1</td>\n",
              "    </tr>\n",
              "    <tr>\n",
              "      <th>...</th>\n",
              "      <td>...</td>\n",
              "      <td>...</td>\n",
              "      <td>...</td>\n",
              "    </tr>\n",
              "    <tr>\n",
              "      <th>95</th>\n",
              "      <td>83.489163</td>\n",
              "      <td>48.380286</td>\n",
              "      <td>1</td>\n",
              "    </tr>\n",
              "    <tr>\n",
              "      <th>96</th>\n",
              "      <td>42.261701</td>\n",
              "      <td>87.103851</td>\n",
              "      <td>1</td>\n",
              "    </tr>\n",
              "    <tr>\n",
              "      <th>97</th>\n",
              "      <td>99.315009</td>\n",
              "      <td>68.775409</td>\n",
              "      <td>1</td>\n",
              "    </tr>\n",
              "    <tr>\n",
              "      <th>98</th>\n",
              "      <td>55.340018</td>\n",
              "      <td>64.931938</td>\n",
              "      <td>1</td>\n",
              "    </tr>\n",
              "    <tr>\n",
              "      <th>99</th>\n",
              "      <td>74.775893</td>\n",
              "      <td>89.529813</td>\n",
              "      <td>1</td>\n",
              "    </tr>\n",
              "  </tbody>\n",
              "</table>\n",
              "<p>100 rows × 3 columns</p>\n",
              "</div>\n",
              "      <button class=\"colab-df-convert\" onclick=\"convertToInteractive('df-e79052ec-aca0-48f4-8a21-a3234416c03b')\"\n",
              "              title=\"Convert this dataframe to an interactive table.\"\n",
              "              style=\"display:none;\">\n",
              "        \n",
              "  <svg xmlns=\"http://www.w3.org/2000/svg\" height=\"24px\"viewBox=\"0 0 24 24\"\n",
              "       width=\"24px\">\n",
              "    <path d=\"M0 0h24v24H0V0z\" fill=\"none\"/>\n",
              "    <path d=\"M18.56 5.44l.94 2.06.94-2.06 2.06-.94-2.06-.94-.94-2.06-.94 2.06-2.06.94zm-11 1L8.5 8.5l.94-2.06 2.06-.94-2.06-.94L8.5 2.5l-.94 2.06-2.06.94zm10 10l.94 2.06.94-2.06 2.06-.94-2.06-.94-.94-2.06-.94 2.06-2.06.94z\"/><path d=\"M17.41 7.96l-1.37-1.37c-.4-.4-.92-.59-1.43-.59-.52 0-1.04.2-1.43.59L10.3 9.45l-7.72 7.72c-.78.78-.78 2.05 0 2.83L4 21.41c.39.39.9.59 1.41.59.51 0 1.02-.2 1.41-.59l7.78-7.78 2.81-2.81c.8-.78.8-2.07 0-2.86zM5.41 20L4 18.59l7.72-7.72 1.47 1.35L5.41 20z\"/>\n",
              "  </svg>\n",
              "      </button>\n",
              "      \n",
              "  <style>\n",
              "    .colab-df-container {\n",
              "      display:flex;\n",
              "      flex-wrap:wrap;\n",
              "      gap: 12px;\n",
              "    }\n",
              "\n",
              "    .colab-df-convert {\n",
              "      background-color: #E8F0FE;\n",
              "      border: none;\n",
              "      border-radius: 50%;\n",
              "      cursor: pointer;\n",
              "      display: none;\n",
              "      fill: #1967D2;\n",
              "      height: 32px;\n",
              "      padding: 0 0 0 0;\n",
              "      width: 32px;\n",
              "    }\n",
              "\n",
              "    .colab-df-convert:hover {\n",
              "      background-color: #E2EBFA;\n",
              "      box-shadow: 0px 1px 2px rgba(60, 64, 67, 0.3), 0px 1px 3px 1px rgba(60, 64, 67, 0.15);\n",
              "      fill: #174EA6;\n",
              "    }\n",
              "\n",
              "    [theme=dark] .colab-df-convert {\n",
              "      background-color: #3B4455;\n",
              "      fill: #D2E3FC;\n",
              "    }\n",
              "\n",
              "    [theme=dark] .colab-df-convert:hover {\n",
              "      background-color: #434B5C;\n",
              "      box-shadow: 0px 1px 3px 1px rgba(0, 0, 0, 0.15);\n",
              "      filter: drop-shadow(0px 1px 2px rgba(0, 0, 0, 0.3));\n",
              "      fill: #FFFFFF;\n",
              "    }\n",
              "  </style>\n",
              "\n",
              "      <script>\n",
              "        const buttonEl =\n",
              "          document.querySelector('#df-e79052ec-aca0-48f4-8a21-a3234416c03b button.colab-df-convert');\n",
              "        buttonEl.style.display =\n",
              "          google.colab.kernel.accessAllowed ? 'block' : 'none';\n",
              "\n",
              "        async function convertToInteractive(key) {\n",
              "          const element = document.querySelector('#df-e79052ec-aca0-48f4-8a21-a3234416c03b');\n",
              "          const dataTable =\n",
              "            await google.colab.kernel.invokeFunction('convertToInteractive',\n",
              "                                                     [key], {});\n",
              "          if (!dataTable) return;\n",
              "\n",
              "          const docLinkHtml = 'Like what you see? Visit the ' +\n",
              "            '<a target=\"_blank\" href=https://colab.research.google.com/notebooks/data_table.ipynb>data table notebook</a>'\n",
              "            + ' to learn more about interactive tables.';\n",
              "          element.innerHTML = '';\n",
              "          dataTable['output_type'] = 'display_data';\n",
              "          await google.colab.output.renderOutput(dataTable, element);\n",
              "          const docLink = document.createElement('div');\n",
              "          docLink.innerHTML = docLinkHtml;\n",
              "          element.appendChild(docLink);\n",
              "        }\n",
              "      </script>\n",
              "    </div>\n",
              "  </div>\n",
              "  "
            ]
          },
          "metadata": {},
          "execution_count": 7
        }
      ]
    },
    {
      "cell_type": "code",
      "source": [
        "df.head()"
      ],
      "metadata": {
        "colab": {
          "base_uri": "https://localhost:8080/",
          "height": 206
        },
        "id": "kNK4c2btsXKl",
        "outputId": "c031068f-375b-4a57-aeda-cfd39f4b5bf2"
      },
      "execution_count": 8,
      "outputs": [
        {
          "output_type": "execute_result",
          "data": {
            "text/plain": [
              "           0          1  2\n",
              "0  34.623660  78.024693  0\n",
              "1  30.286711  43.894998  0\n",
              "2  35.847409  72.902198  0\n",
              "3  60.182599  86.308552  1\n",
              "4  79.032736  75.344376  1"
            ],
            "text/html": [
              "\n",
              "  <div id=\"df-44ee8396-2376-4d50-a00b-0e8d3899ebe3\">\n",
              "    <div class=\"colab-df-container\">\n",
              "      <div>\n",
              "<style scoped>\n",
              "    .dataframe tbody tr th:only-of-type {\n",
              "        vertical-align: middle;\n",
              "    }\n",
              "\n",
              "    .dataframe tbody tr th {\n",
              "        vertical-align: top;\n",
              "    }\n",
              "\n",
              "    .dataframe thead th {\n",
              "        text-align: right;\n",
              "    }\n",
              "</style>\n",
              "<table border=\"1\" class=\"dataframe\">\n",
              "  <thead>\n",
              "    <tr style=\"text-align: right;\">\n",
              "      <th></th>\n",
              "      <th>0</th>\n",
              "      <th>1</th>\n",
              "      <th>2</th>\n",
              "    </tr>\n",
              "  </thead>\n",
              "  <tbody>\n",
              "    <tr>\n",
              "      <th>0</th>\n",
              "      <td>34.623660</td>\n",
              "      <td>78.024693</td>\n",
              "      <td>0</td>\n",
              "    </tr>\n",
              "    <tr>\n",
              "      <th>1</th>\n",
              "      <td>30.286711</td>\n",
              "      <td>43.894998</td>\n",
              "      <td>0</td>\n",
              "    </tr>\n",
              "    <tr>\n",
              "      <th>2</th>\n",
              "      <td>35.847409</td>\n",
              "      <td>72.902198</td>\n",
              "      <td>0</td>\n",
              "    </tr>\n",
              "    <tr>\n",
              "      <th>3</th>\n",
              "      <td>60.182599</td>\n",
              "      <td>86.308552</td>\n",
              "      <td>1</td>\n",
              "    </tr>\n",
              "    <tr>\n",
              "      <th>4</th>\n",
              "      <td>79.032736</td>\n",
              "      <td>75.344376</td>\n",
              "      <td>1</td>\n",
              "    </tr>\n",
              "  </tbody>\n",
              "</table>\n",
              "</div>\n",
              "      <button class=\"colab-df-convert\" onclick=\"convertToInteractive('df-44ee8396-2376-4d50-a00b-0e8d3899ebe3')\"\n",
              "              title=\"Convert this dataframe to an interactive table.\"\n",
              "              style=\"display:none;\">\n",
              "        \n",
              "  <svg xmlns=\"http://www.w3.org/2000/svg\" height=\"24px\"viewBox=\"0 0 24 24\"\n",
              "       width=\"24px\">\n",
              "    <path d=\"M0 0h24v24H0V0z\" fill=\"none\"/>\n",
              "    <path d=\"M18.56 5.44l.94 2.06.94-2.06 2.06-.94-2.06-.94-.94-2.06-.94 2.06-2.06.94zm-11 1L8.5 8.5l.94-2.06 2.06-.94-2.06-.94L8.5 2.5l-.94 2.06-2.06.94zm10 10l.94 2.06.94-2.06 2.06-.94-2.06-.94-.94-2.06-.94 2.06-2.06.94z\"/><path d=\"M17.41 7.96l-1.37-1.37c-.4-.4-.92-.59-1.43-.59-.52 0-1.04.2-1.43.59L10.3 9.45l-7.72 7.72c-.78.78-.78 2.05 0 2.83L4 21.41c.39.39.9.59 1.41.59.51 0 1.02-.2 1.41-.59l7.78-7.78 2.81-2.81c.8-.78.8-2.07 0-2.86zM5.41 20L4 18.59l7.72-7.72 1.47 1.35L5.41 20z\"/>\n",
              "  </svg>\n",
              "      </button>\n",
              "      \n",
              "  <style>\n",
              "    .colab-df-container {\n",
              "      display:flex;\n",
              "      flex-wrap:wrap;\n",
              "      gap: 12px;\n",
              "    }\n",
              "\n",
              "    .colab-df-convert {\n",
              "      background-color: #E8F0FE;\n",
              "      border: none;\n",
              "      border-radius: 50%;\n",
              "      cursor: pointer;\n",
              "      display: none;\n",
              "      fill: #1967D2;\n",
              "      height: 32px;\n",
              "      padding: 0 0 0 0;\n",
              "      width: 32px;\n",
              "    }\n",
              "\n",
              "    .colab-df-convert:hover {\n",
              "      background-color: #E2EBFA;\n",
              "      box-shadow: 0px 1px 2px rgba(60, 64, 67, 0.3), 0px 1px 3px 1px rgba(60, 64, 67, 0.15);\n",
              "      fill: #174EA6;\n",
              "    }\n",
              "\n",
              "    [theme=dark] .colab-df-convert {\n",
              "      background-color: #3B4455;\n",
              "      fill: #D2E3FC;\n",
              "    }\n",
              "\n",
              "    [theme=dark] .colab-df-convert:hover {\n",
              "      background-color: #434B5C;\n",
              "      box-shadow: 0px 1px 3px 1px rgba(0, 0, 0, 0.15);\n",
              "      filter: drop-shadow(0px 1px 2px rgba(0, 0, 0, 0.3));\n",
              "      fill: #FFFFFF;\n",
              "    }\n",
              "  </style>\n",
              "\n",
              "      <script>\n",
              "        const buttonEl =\n",
              "          document.querySelector('#df-44ee8396-2376-4d50-a00b-0e8d3899ebe3 button.colab-df-convert');\n",
              "        buttonEl.style.display =\n",
              "          google.colab.kernel.accessAllowed ? 'block' : 'none';\n",
              "\n",
              "        async function convertToInteractive(key) {\n",
              "          const element = document.querySelector('#df-44ee8396-2376-4d50-a00b-0e8d3899ebe3');\n",
              "          const dataTable =\n",
              "            await google.colab.kernel.invokeFunction('convertToInteractive',\n",
              "                                                     [key], {});\n",
              "          if (!dataTable) return;\n",
              "\n",
              "          const docLinkHtml = 'Like what you see? Visit the ' +\n",
              "            '<a target=\"_blank\" href=https://colab.research.google.com/notebooks/data_table.ipynb>data table notebook</a>'\n",
              "            + ' to learn more about interactive tables.';\n",
              "          element.innerHTML = '';\n",
              "          dataTable['output_type'] = 'display_data';\n",
              "          await google.colab.output.renderOutput(dataTable, element);\n",
              "          const docLink = document.createElement('div');\n",
              "          docLink.innerHTML = docLinkHtml;\n",
              "          element.appendChild(docLink);\n",
              "        }\n",
              "      </script>\n",
              "    </div>\n",
              "  </div>\n",
              "  "
            ]
          },
          "metadata": {},
          "execution_count": 8
        }
      ]
    },
    {
      "cell_type": "code",
      "source": [
        "df.describe()"
      ],
      "metadata": {
        "colab": {
          "base_uri": "https://localhost:8080/",
          "height": 300
        },
        "id": "j1YkDx3_sj6Y",
        "outputId": "3ff87eca-1b49-4550-d701-e6be16f30e84"
      },
      "execution_count": 9,
      "outputs": [
        {
          "output_type": "execute_result",
          "data": {
            "text/plain": [
              "                0           1           2\n",
              "count  100.000000  100.000000  100.000000\n",
              "mean    65.644274   66.221998    0.600000\n",
              "std     19.458222   18.582783    0.492366\n",
              "min     30.058822   30.603263    0.000000\n",
              "25%     50.919511   48.179205    0.000000\n",
              "50%     67.032988   67.682381    1.000000\n",
              "75%     80.212529   79.360605    1.000000\n",
              "max     99.827858   98.869436    1.000000"
            ],
            "text/html": [
              "\n",
              "  <div id=\"df-03df66fe-9864-4017-a9e3-31532e9845b6\">\n",
              "    <div class=\"colab-df-container\">\n",
              "      <div>\n",
              "<style scoped>\n",
              "    .dataframe tbody tr th:only-of-type {\n",
              "        vertical-align: middle;\n",
              "    }\n",
              "\n",
              "    .dataframe tbody tr th {\n",
              "        vertical-align: top;\n",
              "    }\n",
              "\n",
              "    .dataframe thead th {\n",
              "        text-align: right;\n",
              "    }\n",
              "</style>\n",
              "<table border=\"1\" class=\"dataframe\">\n",
              "  <thead>\n",
              "    <tr style=\"text-align: right;\">\n",
              "      <th></th>\n",
              "      <th>0</th>\n",
              "      <th>1</th>\n",
              "      <th>2</th>\n",
              "    </tr>\n",
              "  </thead>\n",
              "  <tbody>\n",
              "    <tr>\n",
              "      <th>count</th>\n",
              "      <td>100.000000</td>\n",
              "      <td>100.000000</td>\n",
              "      <td>100.000000</td>\n",
              "    </tr>\n",
              "    <tr>\n",
              "      <th>mean</th>\n",
              "      <td>65.644274</td>\n",
              "      <td>66.221998</td>\n",
              "      <td>0.600000</td>\n",
              "    </tr>\n",
              "    <tr>\n",
              "      <th>std</th>\n",
              "      <td>19.458222</td>\n",
              "      <td>18.582783</td>\n",
              "      <td>0.492366</td>\n",
              "    </tr>\n",
              "    <tr>\n",
              "      <th>min</th>\n",
              "      <td>30.058822</td>\n",
              "      <td>30.603263</td>\n",
              "      <td>0.000000</td>\n",
              "    </tr>\n",
              "    <tr>\n",
              "      <th>25%</th>\n",
              "      <td>50.919511</td>\n",
              "      <td>48.179205</td>\n",
              "      <td>0.000000</td>\n",
              "    </tr>\n",
              "    <tr>\n",
              "      <th>50%</th>\n",
              "      <td>67.032988</td>\n",
              "      <td>67.682381</td>\n",
              "      <td>1.000000</td>\n",
              "    </tr>\n",
              "    <tr>\n",
              "      <th>75%</th>\n",
              "      <td>80.212529</td>\n",
              "      <td>79.360605</td>\n",
              "      <td>1.000000</td>\n",
              "    </tr>\n",
              "    <tr>\n",
              "      <th>max</th>\n",
              "      <td>99.827858</td>\n",
              "      <td>98.869436</td>\n",
              "      <td>1.000000</td>\n",
              "    </tr>\n",
              "  </tbody>\n",
              "</table>\n",
              "</div>\n",
              "      <button class=\"colab-df-convert\" onclick=\"convertToInteractive('df-03df66fe-9864-4017-a9e3-31532e9845b6')\"\n",
              "              title=\"Convert this dataframe to an interactive table.\"\n",
              "              style=\"display:none;\">\n",
              "        \n",
              "  <svg xmlns=\"http://www.w3.org/2000/svg\" height=\"24px\"viewBox=\"0 0 24 24\"\n",
              "       width=\"24px\">\n",
              "    <path d=\"M0 0h24v24H0V0z\" fill=\"none\"/>\n",
              "    <path d=\"M18.56 5.44l.94 2.06.94-2.06 2.06-.94-2.06-.94-.94-2.06-.94 2.06-2.06.94zm-11 1L8.5 8.5l.94-2.06 2.06-.94-2.06-.94L8.5 2.5l-.94 2.06-2.06.94zm10 10l.94 2.06.94-2.06 2.06-.94-2.06-.94-.94-2.06-.94 2.06-2.06.94z\"/><path d=\"M17.41 7.96l-1.37-1.37c-.4-.4-.92-.59-1.43-.59-.52 0-1.04.2-1.43.59L10.3 9.45l-7.72 7.72c-.78.78-.78 2.05 0 2.83L4 21.41c.39.39.9.59 1.41.59.51 0 1.02-.2 1.41-.59l7.78-7.78 2.81-2.81c.8-.78.8-2.07 0-2.86zM5.41 20L4 18.59l7.72-7.72 1.47 1.35L5.41 20z\"/>\n",
              "  </svg>\n",
              "      </button>\n",
              "      \n",
              "  <style>\n",
              "    .colab-df-container {\n",
              "      display:flex;\n",
              "      flex-wrap:wrap;\n",
              "      gap: 12px;\n",
              "    }\n",
              "\n",
              "    .colab-df-convert {\n",
              "      background-color: #E8F0FE;\n",
              "      border: none;\n",
              "      border-radius: 50%;\n",
              "      cursor: pointer;\n",
              "      display: none;\n",
              "      fill: #1967D2;\n",
              "      height: 32px;\n",
              "      padding: 0 0 0 0;\n",
              "      width: 32px;\n",
              "    }\n",
              "\n",
              "    .colab-df-convert:hover {\n",
              "      background-color: #E2EBFA;\n",
              "      box-shadow: 0px 1px 2px rgba(60, 64, 67, 0.3), 0px 1px 3px 1px rgba(60, 64, 67, 0.15);\n",
              "      fill: #174EA6;\n",
              "    }\n",
              "\n",
              "    [theme=dark] .colab-df-convert {\n",
              "      background-color: #3B4455;\n",
              "      fill: #D2E3FC;\n",
              "    }\n",
              "\n",
              "    [theme=dark] .colab-df-convert:hover {\n",
              "      background-color: #434B5C;\n",
              "      box-shadow: 0px 1px 3px 1px rgba(0, 0, 0, 0.15);\n",
              "      filter: drop-shadow(0px 1px 2px rgba(0, 0, 0, 0.3));\n",
              "      fill: #FFFFFF;\n",
              "    }\n",
              "  </style>\n",
              "\n",
              "      <script>\n",
              "        const buttonEl =\n",
              "          document.querySelector('#df-03df66fe-9864-4017-a9e3-31532e9845b6 button.colab-df-convert');\n",
              "        buttonEl.style.display =\n",
              "          google.colab.kernel.accessAllowed ? 'block' : 'none';\n",
              "\n",
              "        async function convertToInteractive(key) {\n",
              "          const element = document.querySelector('#df-03df66fe-9864-4017-a9e3-31532e9845b6');\n",
              "          const dataTable =\n",
              "            await google.colab.kernel.invokeFunction('convertToInteractive',\n",
              "                                                     [key], {});\n",
              "          if (!dataTable) return;\n",
              "\n",
              "          const docLinkHtml = 'Like what you see? Visit the ' +\n",
              "            '<a target=\"_blank\" href=https://colab.research.google.com/notebooks/data_table.ipynb>data table notebook</a>'\n",
              "            + ' to learn more about interactive tables.';\n",
              "          element.innerHTML = '';\n",
              "          dataTable['output_type'] = 'display_data';\n",
              "          await google.colab.output.renderOutput(dataTable, element);\n",
              "          const docLink = document.createElement('div');\n",
              "          docLink.innerHTML = docLinkHtml;\n",
              "          element.appendChild(docLink);\n",
              "        }\n",
              "      </script>\n",
              "    </div>\n",
              "  </div>\n",
              "  "
            ]
          },
          "metadata": {},
          "execution_count": 9
        }
      ]
    },
    {
      "cell_type": "code",
      "source": [
        "x=df.iloc[:,:-1].values"
      ],
      "metadata": {
        "id": "A2loibw_sn2R"
      },
      "execution_count": 10,
      "outputs": []
    },
    {
      "cell_type": "code",
      "source": [
        "x"
      ],
      "metadata": {
        "colab": {
          "base_uri": "https://localhost:8080/"
        },
        "id": "PWswgwxJs4-Y",
        "outputId": "cc07dc8c-0fac-47ab-ca2d-432e9cbfbbe2"
      },
      "execution_count": 11,
      "outputs": [
        {
          "output_type": "execute_result",
          "data": {
            "text/plain": [
              "array([[34.62365962, 78.02469282],\n",
              "       [30.28671077, 43.89499752],\n",
              "       [35.84740877, 72.90219803],\n",
              "       [60.18259939, 86.3085521 ],\n",
              "       [79.03273605, 75.34437644],\n",
              "       [45.08327748, 56.31637178],\n",
              "       [61.10666454, 96.51142588],\n",
              "       [75.02474557, 46.55401354],\n",
              "       [76.0987867 , 87.42056972],\n",
              "       [84.43281996, 43.53339331],\n",
              "       [95.86155507, 38.22527806],\n",
              "       [75.01365839, 30.60326323],\n",
              "       [82.30705337, 76.4819633 ],\n",
              "       [69.36458876, 97.71869196],\n",
              "       [39.53833914, 76.03681085],\n",
              "       [53.97105215, 89.20735014],\n",
              "       [69.07014406, 52.74046973],\n",
              "       [67.94685548, 46.67857411],\n",
              "       [70.66150955, 92.92713789],\n",
              "       [76.97878373, 47.57596365],\n",
              "       [67.37202755, 42.83843832],\n",
              "       [89.67677575, 65.79936593],\n",
              "       [50.53478829, 48.85581153],\n",
              "       [34.21206098, 44.2095286 ],\n",
              "       [77.92409145, 68.97235999],\n",
              "       [62.27101367, 69.95445795],\n",
              "       [80.19018075, 44.82162893],\n",
              "       [93.1143888 , 38.80067034],\n",
              "       [61.83020602, 50.25610789],\n",
              "       [38.7858038 , 64.99568096],\n",
              "       [61.37928945, 72.80788731],\n",
              "       [85.40451939, 57.05198398],\n",
              "       [52.10797973, 63.12762377],\n",
              "       [52.04540477, 69.43286012],\n",
              "       [40.23689374, 71.16774802],\n",
              "       [54.63510555, 52.21388588],\n",
              "       [33.91550011, 98.86943574],\n",
              "       [64.17698887, 80.90806059],\n",
              "       [74.78925296, 41.57341523],\n",
              "       [34.18364003, 75.23772034],\n",
              "       [83.90239366, 56.30804622],\n",
              "       [51.54772027, 46.85629026],\n",
              "       [94.44336777, 65.56892161],\n",
              "       [82.36875376, 40.61825516],\n",
              "       [51.04775177, 45.82270146],\n",
              "       [62.22267576, 52.06099195],\n",
              "       [77.19303493, 70.4582    ],\n",
              "       [97.77159928, 86.72782233],\n",
              "       [62.0730638 , 96.76882412],\n",
              "       [91.5649745 , 88.69629255],\n",
              "       [79.94481794, 74.16311935],\n",
              "       [99.27252693, 60.999031  ],\n",
              "       [90.54671411, 43.39060181],\n",
              "       [34.52451385, 60.39634246],\n",
              "       [50.28649612, 49.80453881],\n",
              "       [49.58667722, 59.80895099],\n",
              "       [97.64563396, 68.86157272],\n",
              "       [32.57720017, 95.59854761],\n",
              "       [74.24869137, 69.82457123],\n",
              "       [71.79646206, 78.45356225],\n",
              "       [75.39561147, 85.75993667],\n",
              "       [35.28611282, 47.02051395],\n",
              "       [56.2538175 , 39.26147251],\n",
              "       [30.05882245, 49.59297387],\n",
              "       [44.66826172, 66.45008615],\n",
              "       [66.56089447, 41.09209808],\n",
              "       [40.45755098, 97.53518549],\n",
              "       [49.07256322, 51.88321182],\n",
              "       [80.27957401, 92.11606081],\n",
              "       [66.74671857, 60.99139403],\n",
              "       [32.72283304, 43.30717306],\n",
              "       [64.03932042, 78.03168802],\n",
              "       [72.34649423, 96.22759297],\n",
              "       [60.45788574, 73.0949981 ],\n",
              "       [58.84095622, 75.85844831],\n",
              "       [99.8278578 , 72.36925193],\n",
              "       [47.26426911, 88.475865  ],\n",
              "       [50.4581598 , 75.80985953],\n",
              "       [60.45555629, 42.50840944],\n",
              "       [82.22666158, 42.71987854],\n",
              "       [88.91389642, 69.8037889 ],\n",
              "       [94.83450672, 45.6943068 ],\n",
              "       [67.31925747, 66.58935318],\n",
              "       [57.23870632, 59.51428198],\n",
              "       [80.366756  , 90.9601479 ],\n",
              "       [68.46852179, 85.5943071 ],\n",
              "       [42.07545454, 78.844786  ],\n",
              "       [75.47770201, 90.424539  ],\n",
              "       [78.63542435, 96.64742717],\n",
              "       [52.34800399, 60.76950526],\n",
              "       [94.09433113, 77.15910509],\n",
              "       [90.44855097, 87.50879176],\n",
              "       [55.48216114, 35.57070347],\n",
              "       [74.49269242, 84.84513685],\n",
              "       [89.84580671, 45.35828361],\n",
              "       [83.48916274, 48.3802858 ],\n",
              "       [42.26170081, 87.10385094],\n",
              "       [99.31500881, 68.77540947],\n",
              "       [55.34001756, 64.93193801],\n",
              "       [74.775893  , 89.5298129 ]])"
            ]
          },
          "metadata": {},
          "execution_count": 11
        }
      ]
    },
    {
      "cell_type": "code",
      "source": [
        "x.shape"
      ],
      "metadata": {
        "colab": {
          "base_uri": "https://localhost:8080/"
        },
        "id": "c_4KwwXws6Ft",
        "outputId": "55882921-9bce-4b7f-ca19-5c3dee7db513"
      },
      "execution_count": 12,
      "outputs": [
        {
          "output_type": "execute_result",
          "data": {
            "text/plain": [
              "(100, 2)"
            ]
          },
          "metadata": {},
          "execution_count": 12
        }
      ]
    },
    {
      "cell_type": "code",
      "source": [
        "y=df.iloc[:,-1].values"
      ],
      "metadata": {
        "id": "--UMo6Fms_dM"
      },
      "execution_count": 13,
      "outputs": []
    },
    {
      "cell_type": "code",
      "source": [
        "y"
      ],
      "metadata": {
        "colab": {
          "base_uri": "https://localhost:8080/"
        },
        "id": "QhSluH5QtEUl",
        "outputId": "ebcc9fb2-7577-4708-b0db-1dbdcd6b9053"
      },
      "execution_count": 14,
      "outputs": [
        {
          "output_type": "execute_result",
          "data": {
            "text/plain": [
              "array([0, 0, 0, 1, 1, 0, 1, 1, 1, 1, 0, 0, 1, 1, 0, 1, 1, 0, 1, 1, 0, 1,\n",
              "       0, 0, 1, 1, 1, 0, 0, 0, 1, 1, 0, 1, 0, 0, 0, 1, 0, 0, 1, 0, 1, 0,\n",
              "       0, 0, 1, 1, 1, 1, 1, 1, 1, 0, 0, 0, 1, 0, 1, 1, 1, 0, 0, 0, 0, 0,\n",
              "       1, 0, 1, 1, 0, 1, 1, 1, 1, 1, 1, 1, 0, 0, 1, 1, 1, 1, 1, 1, 0, 1,\n",
              "       1, 0, 1, 1, 0, 1, 1, 1, 1, 1, 1, 1])"
            ]
          },
          "metadata": {},
          "execution_count": 14
        }
      ]
    },
    {
      "cell_type": "code",
      "source": [
        "y.shape"
      ],
      "metadata": {
        "colab": {
          "base_uri": "https://localhost:8080/"
        },
        "id": "-qGMcLcMtGq_",
        "outputId": "4d8e387f-1547-4e78-e60a-3889f47d2461"
      },
      "execution_count": 15,
      "outputs": [
        {
          "output_type": "execute_result",
          "data": {
            "text/plain": [
              "(100,)"
            ]
          },
          "metadata": {},
          "execution_count": 15
        }
      ]
    },
    {
      "cell_type": "code",
      "source": [
        "y=y.reshape(100,1)"
      ],
      "metadata": {
        "id": "nUw-FTw0tIqx"
      },
      "execution_count": 16,
      "outputs": []
    },
    {
      "cell_type": "code",
      "source": [
        "y.shape"
      ],
      "metadata": {
        "colab": {
          "base_uri": "https://localhost:8080/"
        },
        "id": "EPFdorkAtO0u",
        "outputId": "ebfb40eb-1f3c-4888-be5d-79d18ca0dc58"
      },
      "execution_count": 17,
      "outputs": [
        {
          "output_type": "execute_result",
          "data": {
            "text/plain": [
              "(100, 1)"
            ]
          },
          "metadata": {},
          "execution_count": 17
        }
      ]
    },
    {
      "cell_type": "code",
      "source": [
        "pos , neg = (y==1).reshape(100,1) , (y==0).reshape(100,1)\n",
        "plt.scatter(x[pos[:,0],0],x[pos[:,0],1],c=\"r\",marker=\"+\")\n",
        "plt.scatter(x[neg[:,0],0],x[neg[:,0],1],marker=\"o\",s=10)\n",
        "plt.xlabel(\"Exam 1 score\")\n",
        "plt.ylabel(\"Exam 2 score\")\n",
        "plt.legend([\"Admitted\",\"Not admitted\"],loc=0)"
      ],
      "metadata": {
        "colab": {
          "base_uri": "https://localhost:8080/",
          "height": 296
        },
        "id": "libG2wx9tRBN",
        "outputId": "47d6022a-d619-4fef-81aa-75dee17811cd"
      },
      "execution_count": 20,
      "outputs": [
        {
          "output_type": "execute_result",
          "data": {
            "text/plain": [
              "<matplotlib.legend.Legend at 0x7fbbcc7e2650>"
            ]
          },
          "metadata": {},
          "execution_count": 20
        },
        {
          "output_type": "display_data",
          "data": {
            "text/plain": [
              "<Figure size 432x288 with 1 Axes>"
            ],
            "image/png": "[encoded data removed]"
          },
          "metadata": {
            "needs_background": "light"
          }
        }
      ]
    },
    {
      "cell_type": "code",
      "source": [
        ""
      ],
      "metadata": {
        "id": "QahPQp91uCbw"
      },
      "execution_count": null,
      "outputs": []
    },
    {
      "cell_type": "markdown",
      "source": [
        "Cost Function For Logistic Regression\n",
        "![cost function.png](data:image/png;base64,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)\n",
        "\n",
        "Gradient Descent\n",
        "\n",
        "\n",
        "![gradient Descent.png](data:image/png;base64,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)\n",
        "\n"
      ],
      "metadata": {
        "id": "9WBmoxkkv3xr"
      }
    },
    {
      "cell_type": "code",
      "source": [
        ""
      ],
      "metadata": {
        "id": "aOWuMDNxwH9e"
      },
      "execution_count": null,
      "outputs": []
    },
    {
      "cell_type": "markdown",
      "source": [
        "1.2   Implementation\n",
        "1.2.1  Warmup exercise: sigmoid function\n",
        "\n",
        "Before you start with the actual cost function, recall that the logistic regression hypothesis is deﬁned as:\n",
        "\n",
        "hθ(x) = g(θT x),\n",
        "\n",
        "where function g is the sigmoid function. The sigmoid function is deﬁned as:\n",
        "\n",
        " g(z) = 1/(1 + e−z )."
      ],
      "metadata": {
        "id": "xwSnhjzGx0aB"
      }
    },
    {
      "cell_type": "markdown",
      "source": [
        ""
      ],
      "metadata": {
        "id": "fq2GZsIzy1TT"
      }
    },
    {
      "cell_type": "markdown",
      "source": [
        "Means value of x for each column"
      ],
      "metadata": {
        "id": "TToVRxJDzIvJ"
      }
    },
    {
      "cell_type": "code",
      "source": [
        "mu=np.mean(x,axis=0)  "
      ],
      "metadata": {
        "id": "F9llHdIzx2HQ"
      },
      "execution_count": 27,
      "outputs": []
    },
    {
      "cell_type": "markdown",
      "source": [
        "Standard Deviation of each column"
      ],
      "metadata": {
        "id": "YaUDG0wezL53"
      }
    },
    {
      "cell_type": "code",
      "source": [
        "std=np.std(x,axis=0)"
      ],
      "metadata": {
        "id": "5jEstiHDykuG"
      },
      "execution_count": 28,
      "outputs": []
    },
    {
      "cell_type": "code",
      "source": [
        "mu.shape"
      ],
      "metadata": {
        "colab": {
          "base_uri": "https://localhost:8080/"
        },
        "id": "QQy68aKBzcAq",
        "outputId": "9c2b89dc-18a0-4abb-b0d2-1f4b17ad4932"
      },
      "execution_count": 29,
      "outputs": [
        {
          "output_type": "execute_result",
          "data": {
            "text/plain": [
              "(2,)"
            ]
          },
          "metadata": {},
          "execution_count": 29
        }
      ]
    },
    {
      "cell_type": "code",
      "source": [
        "def feactureNormalization(x):\n",
        "  mean=np.mean(x,axis=0)\n",
        "  std=np.std(x,axis=0)\n",
        "  x_norm=(x-mean)/std\n",
        "\n",
        "  return x_norm,mean,std"
      ],
      "metadata": {
        "id": "TjfZE-kuzn_F"
      },
      "execution_count": 30,
      "outputs": []
    },
    {
      "cell_type": "code",
      "source": [
        "x,x_mean,x_std=feactureNormalization(x)"
      ],
      "metadata": {
        "id": "VKa1xp9a0WpX"
      },
      "execution_count": 31,
      "outputs": []
    },
    {
      "cell_type": "code",
      "source": [
        "x"
      ],
      "metadata": {
        "colab": {
          "base_uri": "https://localhost:8080/"
        },
        "id": "uuuLYr6i0bQS",
        "outputId": "749d0830-66f7-4310-c512-37854671979c"
      },
      "execution_count": 32,
      "outputs": [
        {
          "output_type": "execute_result",
          "data": {
            "text/plain": [
              "array([[-1.60224763,  0.63834112],\n",
              "       [-1.82625564, -1.2075414 ],\n",
              "       [-1.53903969,  0.3612943 ],\n",
              "       [-0.28210129,  1.0863683 ],\n",
              "       [ 0.69152826,  0.49337794],\n",
              "       [-1.06199728, -0.5357394 ],\n",
              "       [-0.23437234,  1.63818413],\n",
              "       [ 0.4845113 , -1.06373024],\n",
              "       [ 0.53998666,  1.14651105],\n",
              "       [ 0.97044832, -1.22709853],\n",
              "       [ 1.56075461, -1.51418452],\n",
              "       [ 0.48393864, -1.92641626],\n",
              "       [ 0.86065022,  0.55490359],\n",
              "       [ 0.1921582 ,  1.70347834],\n",
              "       [-1.34839922,  0.53082781],\n",
              "       [-0.60293429,  1.24314792],\n",
              "       [ 0.17694982, -0.72913975],\n",
              "       [ 0.11893077, -1.05699346],\n",
              "       [ 0.25914553,  1.44433023],\n",
              "       [ 0.58543944, -1.00845873],\n",
              "       [ 0.0892403 , -1.26468472],\n",
              "       [ 1.2413042 , -0.02285779],\n",
              "       [-0.78042096, -0.93923898],\n",
              "       [-1.62350714, -1.19053019],\n",
              "       [ 0.63426559,  0.14875155],\n",
              "       [-0.17423248,  0.20186768],\n",
              "       [ 0.75131151, -1.15742514],\n",
              "       [ 1.41886056, -1.4830648 ],\n",
              "       [-0.19700066, -0.86350486],\n",
              "       [-1.38726847, -0.06632457],\n",
              "       [-0.22029098,  0.35619356],\n",
              "       [ 1.02063763, -0.49595429],\n",
              "       [-0.69916396, -0.16735724],\n",
              "       [-0.70239602,  0.1736574 ],\n",
              "       [-1.31231814,  0.26748769],\n",
              "       [-0.56863523, -0.7576197 ],\n",
              "       [-1.63882482,  1.76571557],\n",
              "       [-0.07578684,  0.7942862 ],\n",
              "       [ 0.47234786, -1.33310268],\n",
              "       [-1.62497511,  0.48760951],\n",
              "       [ 0.94305124, -0.53618968],\n",
              "       [-0.72810195, -1.0473818 ],\n",
              "       [ 1.48750373, -0.03532122],\n",
              "       [ 0.86383711, -1.38476189],\n",
              "       [-0.75392586, -1.10328278],\n",
              "       [-0.17672918, -0.76588887],\n",
              "       [ 0.59650575,  0.22911224],\n",
              "       [ 1.65941042,  1.10904426],\n",
              "       [-0.1844568 ,  1.65210535],\n",
              "       [ 1.33883167,  1.2155077 ],\n",
              "       [ 0.73863826,  0.42949041],\n",
              "       [ 1.73693492, -0.2824808 ],\n",
              "       [ 1.28623744, -1.23482132],\n",
              "       [-1.60736862, -0.31507682],\n",
              "       [-0.79324552, -0.88792768],\n",
              "       [-0.82939191, -0.34684551],\n",
              "       [ 1.65290418,  0.14275969],\n",
              "       [-1.70794943,  1.5888117 ],\n",
              "       [ 0.44442728,  0.19484284],\n",
              "       [ 0.31776703,  0.66153625],\n",
              "       [ 0.50366692,  1.05669679],\n",
              "       [-1.56803122, -1.03849986],\n",
              "       [-0.48502704, -1.45814261],\n",
              "       [-1.83802631, -0.89937003],\n",
              "       [-1.08343328,  0.012336  ],\n",
              "       [ 0.04734442, -1.35913441],\n",
              "       [-1.30092096,  1.69355351],\n",
              "       [-0.85594644, -0.77550399],\n",
              "       [ 0.75592876,  1.40046365],\n",
              "       [ 0.05694243, -0.28289384],\n",
              "       [-1.70042734, -1.23933351],\n",
              "       [-0.08289756,  0.63871945],\n",
              "       [ 0.34617678,  1.62283321],\n",
              "       [-0.26788246,  0.37172177],\n",
              "       [-0.35139858,  0.52118118],\n",
              "       [ 1.76561835,  0.33247025],\n",
              "       [-0.94934675,  1.20358601],\n",
              "       [-0.78437891,  0.51855329],\n",
              "       [-0.26800277, -1.28253412],\n",
              "       [ 0.8564979 , -1.27109695],\n",
              "       [ 1.20190067,  0.19371884],\n",
              "       [ 1.50770647, -1.11022692],\n",
              "       [ 0.08651467,  0.01986816],\n",
              "       [-0.43415649, -0.36278249],\n",
              "       [ 0.76043181,  1.33794685],\n",
              "       [ 0.14587539,  1.04773882],\n",
              "       [-1.21735452,  0.68269533],\n",
              "       [ 0.50790698,  1.30897879],\n",
              "       [ 0.67100669,  1.64553968],\n",
              "       [-0.68676645, -0.29489455],\n",
              "       [ 1.46947562,  0.59152637],\n",
              "       [ 1.28116721,  1.15128248],\n",
              "       [-0.52488391, -1.65775547],\n",
              "       [ 0.45703019,  1.00722043],\n",
              "       [ 1.25003483, -1.12840052],\n",
              "       [ 0.92170742, -0.96495748],\n",
              "       [-1.2077347 ,  1.12938152],\n",
              "       [ 1.73912916,  0.13809961],\n",
              "       [-0.53222578, -0.06977207],\n",
              "       [ 0.4716578 ,  1.26058811]])"
            ]
          },
          "metadata": {},
          "execution_count": 32
        }
      ]
    },
    {
      "cell_type": "code",
      "source": [
        "x_mean"
      ],
      "metadata": {
        "colab": {
          "base_uri": "https://localhost:8080/"
        },
        "id": "cB60OIA80b8r",
        "outputId": "c60ec662-fd2c-4401-eebe-acf8cf738c8b"
      },
      "execution_count": 33,
      "outputs": [
        {
          "output_type": "execute_result",
          "data": {
            "text/plain": [
              "array([65.64427406, 66.22199809])"
            ]
          },
          "metadata": {},
          "execution_count": 33
        }
      ]
    },
    {
      "cell_type": "code",
      "source": [
        "x_std"
      ],
      "metadata": {
        "colab": {
          "base_uri": "https://localhost:8080/"
        },
        "id": "jPWc2CNM0hno",
        "outputId": "04797742-6bb5-4fa1-abfe-2ca8c56902f3"
      },
      "execution_count": 34,
      "outputs": [
        {
          "output_type": "execute_result",
          "data": {
            "text/plain": [
              "array([19.36068671, 18.48963567])"
            ]
          },
          "metadata": {},
          "execution_count": 34
        }
      ]
    },
    {
      "cell_type": "code",
      "source": [
        "def sigmoid(z):\n",
        "  return 1/(1+np.exp(-z))"
      ],
      "metadata": {
        "id": "3McKSjVu0jTj"
      },
      "execution_count": 35,
      "outputs": []
    },
    {
      "cell_type": "code",
      "source": [
        "sigmoid(0)"
      ],
      "metadata": {
        "colab": {
          "base_uri": "https://localhost:8080/"
        },
        "id": "_dvYE0970-ZO",
        "outputId": "97297af1-e932-4c0b-c4fe-35d3430254bc"
      },
      "execution_count": 36,
      "outputs": [
        {
          "output_type": "execute_result",
          "data": {
            "text/plain": [
              "0.5"
            ]
          },
          "metadata": {},
          "execution_count": 36
        }
      ]
    },
    {
      "cell_type": "code",
      "source": [
        "m,n=x.shape[0], x.shape[1]\n",
        "m\n"
      ],
      "metadata": {
        "colab": {
          "base_uri": "https://localhost:8080/"
        },
        "id": "IXhNCDWa1pzd",
        "outputId": "25fdfef9-c887-45c8-f62d-9197974c734a"
      },
      "execution_count": 39,
      "outputs": [
        {
          "output_type": "execute_result",
          "data": {
            "text/plain": [
              "100"
            ]
          },
          "metadata": {},
          "execution_count": 39
        }
      ]
    },
    {
      "cell_type": "code",
      "source": [
        "n"
      ],
      "metadata": {
        "colab": {
          "base_uri": "https://localhost:8080/"
        },
        "id": "0HBw4Or71_2z",
        "outputId": "e064339a-88d4-4923-f6fe-bcffa682e118"
      },
      "execution_count": 40,
      "outputs": [
        {
          "output_type": "execute_result",
          "data": {
            "text/plain": [
              "2"
            ]
          },
          "metadata": {},
          "execution_count": 40
        }
      ]
    },
    {
      "cell_type": "markdown",
      "source": [
        "Adding 1 values column to x feacture matrix"
      ],
      "metadata": {
        "id": "Yvpe0sbj1bx7"
      }
    },
    {
      "cell_type": "code",
      "source": [
        "x=np.append(np.ones((m,1)),x,axis=1)"
      ],
      "metadata": {
        "id": "M2N7p2rV2Ao0"
      },
      "execution_count": 42,
      "outputs": []
    },
    {
      "cell_type": "code",
      "source": [
        "x"
      ],
      "metadata": {
        "colab": {
          "base_uri": "https://localhost:8080/"
        },
        "id": "TQSMGCJj2evI",
        "outputId": "fa53f969-8f8c-4487-d7a5-2b42ec3af1ea"
      },
      "execution_count": 43,
      "outputs": [
        {
          "output_type": "execute_result",
          "data": {
            "text/plain": [
              "array([[ 1.        , -1.60224763,  0.63834112],\n",
              "       [ 1.        , -1.82625564, -1.2075414 ],\n",
              "       [ 1.        , -1.53903969,  0.3612943 ],\n",
              "       [ 1.        , -0.28210129,  1.0863683 ],\n",
              "       [ 1.        ,  0.69152826,  0.49337794],\n",
              "       [ 1.        , -1.06199728, -0.5357394 ],\n",
              "       [ 1.        , -0.23437234,  1.63818413],\n",
              "       [ 1.        ,  0.4845113 , -1.06373024],\n",
              "       [ 1.        ,  0.53998666,  1.14651105],\n",
              "       [ 1.        ,  0.97044832, -1.22709853],\n",
              "       [ 1.        ,  1.56075461, -1.51418452],\n",
              "       [ 1.        ,  0.48393864, -1.92641626],\n",
              "       [ 1.        ,  0.86065022,  0.55490359],\n",
              "       [ 1.        ,  0.1921582 ,  1.70347834],\n",
              "       [ 1.        , -1.34839922,  0.53082781],\n",
              "       [ 1.        , -0.60293429,  1.24314792],\n",
              "       [ 1.        ,  0.17694982, -0.72913975],\n",
              "       [ 1.        ,  0.11893077, -1.05699346],\n",
              "       [ 1.        ,  0.25914553,  1.44433023],\n",
              "       [ 1.        ,  0.58543944, -1.00845873],\n",
              "       [ 1.        ,  0.0892403 , -1.26468472],\n",
              "       [ 1.        ,  1.2413042 , -0.02285779],\n",
              "       [ 1.        , -0.78042096, -0.93923898],\n",
              "       [ 1.        , -1.62350714, -1.19053019],\n",
              "       [ 1.        ,  0.63426559,  0.14875155],\n",
              "       [ 1.        , -0.17423248,  0.20186768],\n",
              "       [ 1.        ,  0.75131151, -1.15742514],\n",
              "       [ 1.        ,  1.41886056, -1.4830648 ],\n",
              "       [ 1.        , -0.19700066, -0.86350486],\n",
              "       [ 1.        , -1.38726847, -0.06632457],\n",
              "       [ 1.        , -0.22029098,  0.35619356],\n",
              "       [ 1.        ,  1.02063763, -0.49595429],\n",
              "       [ 1.        , -0.69916396, -0.16735724],\n",
              "       [ 1.        , -0.70239602,  0.1736574 ],\n",
              "       [ 1.        , -1.31231814,  0.26748769],\n",
              "       [ 1.        , -0.56863523, -0.7576197 ],\n",
              "       [ 1.        , -1.63882482,  1.76571557],\n",
              "       [ 1.        , -0.07578684,  0.7942862 ],\n",
              "       [ 1.        ,  0.47234786, -1.33310268],\n",
              "       [ 1.        , -1.62497511,  0.48760951],\n",
              "       [ 1.        ,  0.94305124, -0.53618968],\n",
              "       [ 1.        , -0.72810195, -1.0473818 ],\n",
              "       [ 1.        ,  1.48750373, -0.03532122],\n",
              "       [ 1.        ,  0.86383711, -1.38476189],\n",
              "       [ 1.        , -0.75392586, -1.10328278],\n",
              "       [ 1.        , -0.17672918, -0.76588887],\n",
              "       [ 1.        ,  0.59650575,  0.22911224],\n",
              "       [ 1.        ,  1.65941042,  1.10904426],\n",
              "       [ 1.        , -0.1844568 ,  1.65210535],\n",
              "       [ 1.        ,  1.33883167,  1.2155077 ],\n",
              "       [ 1.        ,  0.73863826,  0.42949041],\n",
              "       [ 1.        ,  1.73693492, -0.2824808 ],\n",
              "       [ 1.        ,  1.28623744, -1.23482132],\n",
              "       [ 1.        , -1.60736862, -0.31507682],\n",
              "       [ 1.        , -0.79324552, -0.88792768],\n",
              "       [ 1.        , -0.82939191, -0.34684551],\n",
              "       [ 1.        ,  1.65290418,  0.14275969],\n",
              "       [ 1.        , -1.70794943,  1.5888117 ],\n",
              "       [ 1.        ,  0.44442728,  0.19484284],\n",
              "       [ 1.        ,  0.31776703,  0.66153625],\n",
              "       [ 1.        ,  0.50366692,  1.05669679],\n",
              "       [ 1.        , -1.56803122, -1.03849986],\n",
              "       [ 1.        , -0.48502704, -1.45814261],\n",
              "       [ 1.        , -1.83802631, -0.89937003],\n",
              "       [ 1.        , -1.08343328,  0.012336  ],\n",
              "       [ 1.        ,  0.04734442, -1.35913441],\n",
              "       [ 1.        , -1.30092096,  1.69355351],\n",
              "       [ 1.        , -0.85594644, -0.77550399],\n",
              "       [ 1.        ,  0.75592876,  1.40046365],\n",
              "       [ 1.        ,  0.05694243, -0.28289384],\n",
              "       [ 1.        , -1.70042734, -1.23933351],\n",
              "       [ 1.        , -0.08289756,  0.63871945],\n",
              "       [ 1.        ,  0.34617678,  1.62283321],\n",
              "       [ 1.        , -0.26788246,  0.37172177],\n",
              "       [ 1.        , -0.35139858,  0.52118118],\n",
              "       [ 1.        ,  1.76561835,  0.33247025],\n",
              "       [ 1.        , -0.94934675,  1.20358601],\n",
              "       [ 1.        , -0.78437891,  0.51855329],\n",
              "       [ 1.        , -0.26800277, -1.28253412],\n",
              "       [ 1.        ,  0.8564979 , -1.27109695],\n",
              "       [ 1.        ,  1.20190067,  0.19371884],\n",
              "       [ 1.        ,  1.50770647, -1.11022692],\n",
              "       [ 1.        ,  0.08651467,  0.01986816],\n",
              "       [ 1.        , -0.43415649, -0.36278249],\n",
              "       [ 1.        ,  0.76043181,  1.33794685],\n",
              "       [ 1.        ,  0.14587539,  1.04773882],\n",
              "       [ 1.        , -1.21735452,  0.68269533],\n",
              "       [ 1.        ,  0.50790698,  1.30897879],\n",
              "       [ 1.        ,  0.67100669,  1.64553968],\n",
              "       [ 1.        , -0.68676645, -0.29489455],\n",
              "       [ 1.        ,  1.46947562,  0.59152637],\n",
              "       [ 1.        ,  1.28116721,  1.15128248],\n",
              "       [ 1.        , -0.52488391, -1.65775547],\n",
              "       [ 1.        ,  0.45703019,  1.00722043],\n",
              "       [ 1.        ,  1.25003483, -1.12840052],\n",
              "       [ 1.        ,  0.92170742, -0.96495748],\n",
              "       [ 1.        , -1.2077347 ,  1.12938152],\n",
              "       [ 1.        ,  1.73912916,  0.13809961],\n",
              "       [ 1.        , -0.53222578, -0.06977207],\n",
              "       [ 1.        ,  0.4716578 ,  1.26058811]])"
            ]
          },
          "metadata": {},
          "execution_count": 43
        }
      ]
    },
    {
      "cell_type": "code",
      "source": [
        "x.shape"
      ],
      "metadata": {
        "colab": {
          "base_uri": "https://localhost:8080/"
        },
        "id": "cHbvek-02ml3",
        "outputId": "17989416-6451-45bf-c679-8e746cbc0831"
      },
      "execution_count": 44,
      "outputs": [
        {
          "output_type": "execute_result",
          "data": {
            "text/plain": [
              "(100, 3)"
            ]
          },
          "metadata": {},
          "execution_count": 44
        }
      ]
    },
    {
      "cell_type": "code",
      "source": [
        "initial_theta=np.zeros((n+1,1))"
      ],
      "metadata": {
        "id": "nhkdhD0r3QVB"
      },
      "execution_count": 45,
      "outputs": []
    },
    {
      "cell_type": "code",
      "source": [
        "initial_theta"
      ],
      "metadata": {
        "colab": {
          "base_uri": "https://localhost:8080/"
        },
        "id": "KLUy8qUD70MT",
        "outputId": "28317e1b-4a31-425a-881f-07762422fc08"
      },
      "execution_count": 46,
      "outputs": [
        {
          "output_type": "execute_result",
          "data": {
            "text/plain": [
              "array([[0.],\n",
              "       [0.],\n",
              "       [0.]])"
            ]
          },
          "metadata": {},
          "execution_count": 46
        }
      ]
    },
    {
      "cell_type": "code",
      "source": [
        "z=np.dot(x,initial_theta)"
      ],
      "metadata": {
        "id": "eIG2yepR71p5"
      },
      "execution_count": 47,
      "outputs": []
    },
    {
      "cell_type": "code",
      "source": [
        "h=sigmoid(z)"
      ],
      "metadata": {
        "id": "MHa35MJz75ZR"
      },
      "execution_count": 49,
      "outputs": []
    },
    {
      "cell_type": "code",
      "source": [
        "h.shape"
      ],
      "metadata": {
        "colab": {
          "base_uri": "https://localhost:8080/"
        },
        "id": "BgIJ3CeA76fZ",
        "outputId": "3b6a0bb5-6a36-4030-c8a8-b4f94b0287a2"
      },
      "execution_count": 51,
      "outputs": [
        {
          "output_type": "execute_result",
          "data": {
            "text/plain": [
              "(100, 1)"
            ]
          },
          "metadata": {},
          "execution_count": 51
        }
      ]
    },
    {
      "cell_type": "code",
      "source": [
        "l=-y*np.log(h)-(1-y)*np.log(1-h)"
      ],
      "metadata": {
        "id": "M4vfjotB8HXz"
      },
      "execution_count": 52,
      "outputs": []
    },
    {
      "cell_type": "code",
      "source": [
        "l.shape"
      ],
      "metadata": {
        "colab": {
          "base_uri": "https://localhost:8080/"
        },
        "id": "e4L30Psr9iu1",
        "outputId": "1b642fb8-3270-4035-bbd0-c30385e30d9a"
      },
      "execution_count": 53,
      "outputs": [
        {
          "output_type": "execute_result",
          "data": {
            "text/plain": [
              "(100, 1)"
            ]
          },
          "metadata": {},
          "execution_count": 53
        }
      ]
    },
    {
      "cell_type": "code",
      "source": [
        "cost=np.sum(l)/m"
      ],
      "metadata": {
        "id": "Fb-ptBtD9kOO"
      },
      "execution_count": 55,
      "outputs": []
    },
    {
      "cell_type": "code",
      "source": [
        "cost"
      ],
      "metadata": {
        "colab": {
          "base_uri": "https://localhost:8080/"
        },
        "id": "xURE_Rb19lJh",
        "outputId": "f96781bd-92d3-4197-b036-7321caa3b48b"
      },
      "execution_count": 56,
      "outputs": [
        {
          "output_type": "execute_result",
          "data": {
            "text/plain": [
              "0.6931471805599453"
            ]
          },
          "metadata": {},
          "execution_count": 56
        }
      ]
    },
    {
      "cell_type": "code",
      "source": [
        "grad=np.dot(x.transpose(),(h-y))/m"
      ],
      "metadata": {
        "id": "27trTZC89tFQ"
      },
      "execution_count": 58,
      "outputs": []
    },
    {
      "cell_type": "code",
      "source": [
        "grad"
      ],
      "metadata": {
        "colab": {
          "base_uri": "https://localhost:8080/"
        },
        "id": "LoANFfug_wDo",
        "outputId": "3992361f-c8ec-48f0-974c-a60f7fb22560"
      },
      "execution_count": 60,
      "outputs": [
        {
          "output_type": "execute_result",
          "data": {
            "text/plain": [
              "array([[-0.1       ],\n",
              "       [-0.28122914],\n",
              "       [-0.25098615]])"
            ]
          },
          "metadata": {},
          "execution_count": 60
        }
      ]
    },
    {
      "cell_type": "code",
      "source": [
        ""
      ],
      "metadata": {
        "id": "3Rjk5W_p_zPs"
      },
      "execution_count": null,
      "outputs": []
    }
  ]
}